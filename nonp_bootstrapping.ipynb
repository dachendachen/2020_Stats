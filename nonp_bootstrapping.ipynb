{
  "nbformat": 4,
  "nbformat_minor": 0,
  "metadata": {
    "colab": {
      "name": "Untitled0.ipynb",
      "provenance": [],
      "collapsed_sections": [],
      "authorship_tag": "ABX9TyNZLwZFUU7rDuKALNndRnf4",
      "include_colab_link": true
    },
    "kernelspec": {
      "name": "python3",
      "display_name": "Python 3"
    }
  },
  "cells": [
    {
      "cell_type": "markdown",
      "metadata": {
        "id": "view-in-github",
        "colab_type": "text"
      },
      "source": [
        "<a href=\"https://colab.research.google.com/github/dachendachen/2020_Stats/blob/master/nonp_bootstrapping.ipynb\" target=\"_parent\"><img src=\"https://colab.research.google.com/assets/colab-badge.svg\" alt=\"Open In Colab\"/></a>"
      ]
    },
    {
      "cell_type": "code",
      "metadata": {
        "id": "35iMza3veNxR",
        "colab_type": "code",
        "colab": {}
      },
      "source": [
        "import pandas as pd\n",
        "import numpy as np\n",
        "import matplotlib.pyplot as plt\n",
        "import scipy.stats"
      ],
      "execution_count": 0,
      "outputs": []
    },
    {
      "cell_type": "code",
      "metadata": {
        "id": "JbpyI3doeO_A",
        "colab_type": "code",
        "outputId": "b61f6778-4fac-488c-ca95-9c633b5a61ad",
        "colab": {
          "base_uri": "https://localhost:8080/",
          "height": 265
        }
      },
      "source": [
        "\n",
        "data = [1.0,1.0,2.0,1.5,3.0,4.0,2.0,2.5,3.5]\n",
        "plt.hist(data);"
      ],
      "execution_count": 2,
      "outputs": [
        {
          "output_type": "display_data",
          "data": {
            "image/png": "[encoded data removed]",
            "text/plain": [
              "<Figure size 432x288 with 1 Axes>"
            ]
          },
          "metadata": {
            "tags": []
          }
        }
      ]
    },
    {
      "cell_type": "code",
      "metadata": {
        "id": "W0AdIrsrePB1",
        "colab_type": "code",
        "outputId": "f12f3eab-e9da-4876-b9bd-932fdc5d81b6",
        "colab": {
          "base_uri": "https://localhost:8080/",
          "height": 34
        }
      },
      "source": [
        "mu_data= np.mean(data)\n",
        "print(mu_data)"
      ],
      "execution_count": 3,
      "outputs": [
        {
          "output_type": "stream",
          "text": [
            "2.2777777777777777\n"
          ],
          "name": "stdout"
        }
      ]
    },
    {
      "cell_type": "code",
      "metadata": {
        "id": "vrjnLcDsePGz",
        "colab_type": "code",
        "outputId": "7ede205c-e45b-406a-e1cc-e1009f703387",
        "colab": {
          "base_uri": "https://localhost:8080/",
          "height": 68
        }
      },
      "source": [
        "B = 10000 #loop ten thousand times\n",
        "mu_boot = np.zeros(B)\n",
        "\n",
        "for i in range(B):\n",
        "  boot_data = np.random.choice(data, 9, replace=True)\n",
        "  mu_boot[i] = np.mean(boot_data)\n",
        "\n",
        "#mu_boot, 10000 samples generated from the given data\n",
        "\n",
        "mean_mu_boot = np.mean(mu_boot)\n",
        "var_boot = np.var(mu_boot)\n",
        "se_boot = np.sqrt(var_boot)\n",
        "\n",
        "print(mean_mu_boot)\n",
        "print(var_boot)\n",
        "print(se_boot)"
      ],
      "execution_count": 4,
      "outputs": [
        {
          "output_type": "stream",
          "text": [
            "2.271377777777778\n",
            "0.11138558320987654\n",
            "0.33374478753963566\n"
          ],
          "name": "stdout"
        }
      ]
    },
    {
      "cell_type": "code",
      "metadata": {
        "id": "RNScX7YD5cAv",
        "colab_type": "code",
        "outputId": "287e7ee3-427c-4ff9-8a9a-3966c5f4f230",
        "colab": {
          "base_uri": "https://localhost:8080/",
          "height": 265
        }
      },
      "source": [
        "plt.hist(mu_boot);"
      ],
      "execution_count": 5,
      "outputs": [
        {
          "output_type": "display_data",
          "data": {
            "image/png": "[encoded data removed]",
            "text/plain": [
              "<Figure size 432x288 with 1 Axes>"
            ]
          },
          "metadata": {
            "tags": []
          }
        }
      ]
    },
    {
      "cell_type": "code",
      "metadata": {
        "id": "Q2A-S55o6IFj",
        "colab_type": "code",
        "colab": {}
      },
      "source": [
        "# .95 confidence interval\n",
        "# 1-alpha = .95\n",
        "# alpha = 0.025\n",
        "# Z_alpha/2 = 1.96"
      ],
      "execution_count": 0,
      "outputs": []
    },
    {
      "cell_type": "code",
      "metadata": {
        "id": "JZ0xuCkA6IJf",
        "colab_type": "code",
        "outputId": "7b2039a7-d3f4-4dd7-a0f3-f09deb5f5cba",
        "colab": {
          "base_uri": "https://localhost:8080/",
          "height": 119
        }
      },
      "source": [
        "CI_95_negative = mean_mu_boot - 1.96*se_boot\n",
        "CI_95_positive = mean_mu_boot + 1.96*se_boot\n",
        "\n",
        "print(CI_95_negative)\n",
        "print(CI_95_positive)\n",
        "print(\"\\n\")\n",
        "#using numpy quantile\n",
        "print(np.quantile(mu_boot, 0.025))\n",
        "print(np.quantile(mu_boot, 0.975))\n",
        "\n"
      ],
      "execution_count": 19,
      "outputs": [
        {
          "output_type": "stream",
          "text": [
            "1.617237994200092\n",
            "2.9255175613554636\n",
            "\n",
            "\n",
            "1.6111111111111112\n",
            "2.9444444444444446\n"
          ],
          "name": "stdout"
        }
      ]
    }
  ]
}