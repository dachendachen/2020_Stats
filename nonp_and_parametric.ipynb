{
  "nbformat": 4,
  "nbformat_minor": 0,
  "metadata": {
    "colab": {
      "name": "Untitled0.ipynb",
      "provenance": [],
      "collapsed_sections": [],
      "authorship_tag": "ABX9TyNLNGSawXZz8QI1f920akny",
      "include_colab_link": true
    },
    "kernelspec": {
      "name": "python3",
      "display_name": "Python 3"
    }
  },
  "cells": [
    {
      "cell_type": "markdown",
      "metadata": {
        "id": "view-in-github",
        "colab_type": "text"
      },
      "source": [
        "<a href=\"https://colab.research.google.com/github/dachendachen/2020_Stats/blob/master/nonp_and_parametric.ipynb\" target=\"_parent\"><img src=\"https://colab.research.google.com/assets/colab-badge.svg\" alt=\"Open In Colab\"/></a>"
      ]
    },
    {
      "cell_type": "markdown",
      "metadata": {
        "id": "1XYmKpZiU2MB",
        "colab_type": "text"
      },
      "source": [
        "### **Wasserman 9.9**"
      ]
    },
    {
      "cell_type": "code",
      "metadata": {
        "id": "35iMza3veNxR",
        "colab_type": "code",
        "colab": {}
      },
      "source": [
        "import pandas as pd\n",
        "import numpy as np\n",
        "import matplotlib.pyplot as plt\n",
        "import scipy.stats"
      ],
      "execution_count": 0,
      "outputs": []
    },
    {
      "cell_type": "code",
      "metadata": {
        "id": "JbpyI3doeO_A",
        "colab_type": "code",
        "outputId": "1aadfd78-a337-43a2-83d6-dfd73324a8d7",
        "colab": {
          "base_uri": "https://localhost:8080/",
          "height": 265
        }
      },
      "source": [
        "# X1, ..., Xn ~ Normal(mu, 1)\n",
        "# mu =5, variance=1, sigma= se= 1; n = 100 observation\n",
        "\n",
        "#initialize 100 observation\n",
        "data = np.random.normal(5,1,100)\n",
        "plt.hist(data);"
      ],
      "execution_count": 6,
      "outputs": [
        {
          "output_type": "display_data",
          "data": {
            "image/png": "[encoded data removed]",
            "text/plain": [
              "<Figure size 432x288 with 1 Axes>"
            ]
          },
          "metadata": {
            "tags": []
          }
        }
      ]
    },
    {
      "cell_type": "code",
      "metadata": {
        "id": "W0AdIrsrePB1",
        "colab_type": "code",
        "outputId": "c285bb69-2088-4590-cfeb-ec272af61a52",
        "colab": {
          "base_uri": "https://localhost:8080/",
          "height": 34
        }
      },
      "source": [
        "# mu = mean of data\n",
        "data_mean= np.mean(data)\n",
        "print(data_mean)"
      ],
      "execution_count": 11,
      "outputs": [
        {
          "output_type": "stream",
          "text": [
            "5.059067970340087\n"
          ],
          "name": "stdout"
        }
      ]
    },
    {
      "cell_type": "markdown",
      "metadata": {
        "id": "mRsBriMEUsfY",
        "colab_type": "text"
      },
      "source": [
        "### **Non-parametric Bootstrapping:**\n"
      ]
    },
    {
      "cell_type": "code",
      "metadata": {
        "id": "vrjnLcDsePGz",
        "colab_type": "code",
        "colab": {}
      },
      "source": [
        "B = 10000 #loop ten thousand times\n",
        "theta_boot = np.zeros(B)\n",
        "\n",
        "# know the function, theta = e^mu\n",
        "for i in range(B):\n",
        "  boot_data = np.random.choice(data, 100, replace=True)\n",
        "  theta_boot[i] = np.exp(mu_boot[i])\n",
        "\n",
        "#mu_boot, 10000 samples generated from the given data\n",
        "\n",
        "mean_theta_boot = np.mean(theta_boot)\n",
        "var_theta_boot = np.var(theta_boot)\n",
        "se_theta_boot = np.sqrt(var_theta_boot)\n"
      ],
      "execution_count": 0,
      "outputs": []
    },
    {
      "cell_type": "code",
      "metadata": {
        "id": "RNScX7YD5cAv",
        "colab_type": "code",
        "outputId": "5d71d17c-d9f3-45fd-f626-3d804904e52e",
        "colab": {
          "base_uri": "https://localhost:8080/",
          "height": 265
        }
      },
      "source": [
        "plt.hist(theta_boot);"
      ],
      "execution_count": 34,
      "outputs": [
        {
          "output_type": "display_data",
          "data": {
            "image/png": "[encoded data removed]",
            "text/plain": [
              "<Figure size 432x288 with 1 Axes>"
            ]
          },
          "metadata": {
            "tags": []
          }
        }
      ]
    },
    {
      "cell_type": "code",
      "metadata": {
        "id": "Q2A-S55o6IFj",
        "colab_type": "code",
        "colab": {}
      },
      "source": [
        "# .95 confidence interval\n",
        "# 1-alpha = .95\n",
        "# alpha = 0.025\n",
        "# Z_alpha/2 = 1.96"
      ],
      "execution_count": 0,
      "outputs": []
    },
    {
      "cell_type": "code",
      "metadata": {
        "id": "JZ0xuCkA6IJf",
        "colab_type": "code",
        "outputId": "46a77a10-b37a-43e2-8ef1-31d668c82df7",
        "colab": {
          "base_uri": "https://localhost:8080/",
          "height": 51
        }
      },
      "source": [
        "CI_95_negative = mean_theta_boot - 1.96*se_theta_boot\n",
        "CI_95_positive = mean_theta_boot + 1.96*se_theta_boot\n",
        "\n",
        "print(CI_95_negative)\n",
        "print(CI_95_positive)"
      ],
      "execution_count": 24,
      "outputs": [
        {
          "output_type": "stream",
          "text": [
            "127.43850523021518\n",
            "188.9713549875463\n"
          ],
          "name": "stdout"
        }
      ]
    },
    {
      "cell_type": "code",
      "metadata": {
        "id": "a2P9iuLEpJQ-",
        "colab_type": "code",
        "colab": {
          "base_uri": "https://localhost:8080/",
          "height": 51
        },
        "outputId": "6b0510a0-82be-4103-b01b-afe45233f047"
      },
      "source": [
        "#another way\n",
        "print(np.quantile(theta_boot, 0.025))\n",
        "print(np.quantile(theta_boot, 0.975))"
      ],
      "execution_count": 31,
      "outputs": [
        {
          "output_type": "stream",
          "text": [
            "129.6532506849589\n",
            "190.55290773567035\n"
          ],
          "name": "stdout"
        }
      ]
    },
    {
      "cell_type": "markdown",
      "metadata": {
        "id": "-H4Vs9cpmEha",
        "colab_type": "text"
      },
      "source": [
        "### **Parametric Bootstrapping**"
      ]
    },
    {
      "cell_type": "code",
      "metadata": {
        "id": "fOjVXBjimD4G",
        "colab_type": "code",
        "colab": {}
      },
      "source": [
        "#Decided the parameters:\n",
        "# mu: original data set mean\n",
        "# variance: original data set variance\n",
        "\n",
        "#data_mean= np.mean(data)\n",
        "# variance is given, 1\n",
        "\n",
        "#use these information construct a NEW Normal Distribution"
      ],
      "execution_count": 0,
      "outputs": []
    },
    {
      "cell_type": "code",
      "metadata": {
        "id": "7X-1uyWQmD7l",
        "colab_type": "code",
        "colab": {}
      },
      "source": [
        "#start resampling\n",
        "B = 10000 # num of loop\n",
        "theta_bootp = np.zeros(B)\n",
        "\n",
        "for j in range(B):\n",
        "  pboot_data = np.random.normal(data_mean, 1, size = 100)\n",
        "  theta_bootp[j] = np.exp(np.mean(pboot_data))\n",
        "#finished resampling"
      ],
      "execution_count": 0,
      "outputs": []
    },
    {
      "cell_type": "code",
      "metadata": {
        "id": "DuqiDsH8mEAL",
        "colab_type": "code",
        "colab": {
          "base_uri": "https://localhost:8080/",
          "height": 265
        },
        "outputId": "89b65a21-fac0-4f2e-f3f0-8180a6df6b9a"
      },
      "source": [
        "plt.hist(theta_bootp);"
      ],
      "execution_count": 28,
      "outputs": [
        {
          "output_type": "display_data",
          "data": {
            "image/png": "[encoded data removed]",
            "text/plain": [
              "<Figure size 432x288 with 1 Axes>"
            ]
          },
          "metadata": {
            "tags": []
          }
        }
      ]
    },
    {
      "cell_type": "code",
      "metadata": {
        "id": "2wYhsr4hpZMc",
        "colab_type": "code",
        "colab": {
          "base_uri": "https://localhost:8080/",
          "height": 51
        },
        "outputId": "f02625ab-79de-4b97-8636-bf1954c155b8"
      },
      "source": [
        "#calculating the Confidence Interval manually\n",
        "var_theta_bootp = np.var(theta_bootp)\n",
        "se_theta_bootp = np.sqrt(var_theta_bootp)\n",
        "\n",
        "p_CI_95_neg = np.mean(theta_bootp) - 1.96*se_theta_bootp\n",
        "p_CI_95_pos = np.mean(theta_bootp) + 1.96*se_theta_bootp\n",
        "\n",
        "print(p_CI_95_neg)\n",
        "print(p_CI_95_pos)"
      ],
      "execution_count": 32,
      "outputs": [
        {
          "output_type": "stream",
          "text": [
            "127.04206979933629\n",
            "189.37780289318962\n"
          ],
          "name": "stdout"
        }
      ]
    },
    {
      "cell_type": "code",
      "metadata": {
        "id": "gZL2tkvdmEC2",
        "colab_type": "code",
        "colab": {
          "base_uri": "https://localhost:8080/",
          "height": 51
        },
        "outputId": "e73e645c-aa38-4c0e-b2c1-bbe96e0e40cc"
      },
      "source": [
        "#calculate the .95 confidence interval using built-in function\n",
        "CI_95_1 = np.quantile(theta_bootp, 0.025) \n",
        "CI_95_2 = np.quantile(theta_bootp, 0.975)\n",
        "\n",
        "print(CI_95_1)\n",
        "print(CI_95_2)"
      ],
      "execution_count": 29,
      "outputs": [
        {
          "output_type": "stream",
          "text": [
            "129.92404797649587\n",
            "192.26587134164944\n"
          ],
          "name": "stdout"
        }
      ]
    }
  ]
}